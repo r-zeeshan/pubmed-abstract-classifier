{
  "nbformat": 4,
  "nbformat_minor": 0,
  "metadata": {
    "colab": {
      "provenance": []
    },
    "kernelspec": {
      "name": "python3",
      "display_name": "Python 3"
    },
    "language_info": {
      "name": "python"
    },
    "accelerator": "GPU",
    "gpuClass": "standard"
  },
  "cells": [
    {
      "cell_type": "markdown",
      "source": [
        "# Dowloading the Datasets and becoming familiar with the data"
      ],
      "metadata": {
        "id": "UJY1LFekaJhX"
      }
    },
    {
      "cell_type": "code",
      "source": [
        "!git clone https://github.com/Franck-Dernoncourt/pubmed-rct.git"
      ],
      "metadata": {
        "colab": {
          "base_uri": "https://localhost:8080/"
        },
        "id": "nLelvMufa_tG",
        "outputId": "ec007642-79f9-4a3b-dfbb-ce7f6266eb87"
      },
      "execution_count": 2,
      "outputs": [
        {
          "output_type": "stream",
          "name": "stdout",
          "text": [
            "fatal: destination path 'pubmed-rct' already exists and is not an empty directory.\n"
          ]
        }
      ]
    },
    {
      "cell_type": "code",
      "source": [
        "!ls pubmed-rct"
      ],
      "metadata": {
        "colab": {
          "base_uri": "https://localhost:8080/"
        },
        "id": "9I265bcMbJ5m",
        "outputId": "6942186f-fedb-4839-d09f-40446bde6152"
      },
      "execution_count": 3,
      "outputs": [
        {
          "output_type": "stream",
          "name": "stdout",
          "text": [
            "PubMed_200k_RCT\n",
            "PubMed_200k_RCT_numbers_replaced_with_at_sign\n",
            "PubMed_20k_RCT\n",
            "PubMed_20k_RCT_numbers_replaced_with_at_sign\n",
            "README.md\n"
          ]
        }
      ]
    },
    {
      "cell_type": "code",
      "source": [
        "data_dir = \"/content/pubmed-rct/PubMed_20k_RCT/\""
      ],
      "metadata": {
        "id": "i0UzPE9UbcfJ"
      },
      "execution_count": 4,
      "outputs": []
    },
    {
      "cell_type": "markdown",
      "source": [
        "## Preprocessing the data"
      ],
      "metadata": {
        "id": "MkkKHNE3bvHg"
      }
    },
    {
      "cell_type": "code",
      "source": [
        "# Creating the function to read lines from the document\n",
        "def get_lines(filename):\n",
        "    \"\"\"\n",
        "    Reads filename (a text file) and returns the lines of text as a list.\n",
        "\n",
        "    Args:\n",
        "        filename: a string contaning the target filepath.\n",
        "\n",
        "    Returns:\n",
        "        A list of strings with one string per line from the target filename.\n",
        "    \"\"\"\n",
        "\n",
        "    with open(filename) as f:\n",
        "        return f.readlines()"
      ],
      "metadata": {
        "id": "1Yuce2Xsbxs8"
      },
      "execution_count": 5,
      "outputs": []
    },
    {
      "cell_type": "code",
      "source": [
        "train_lines = get_lines(data_dir + \"train.txt\")\n",
        "train_lines[:3]"
      ],
      "metadata": {
        "colab": {
          "base_uri": "https://localhost:8080/"
        },
        "id": "_cSOlpeHcPDS",
        "outputId": "80c6d4ab-6731-4a30-88cd-0064f04adedc"
      },
      "execution_count": 6,
      "outputs": [
        {
          "output_type": "execute_result",
          "data": {
            "text/plain": [
              "['###24293578\\n',\n",
              " 'OBJECTIVE\\tTo investigate the efficacy of 6 weeks of daily low-dose oral prednisolone in improving pain , mobility , and systemic low-grade inflammation in the short term and whether the effect would be sustained at 12 weeks in older adults with moderate to severe knee osteoarthritis ( OA ) .\\n',\n",
              " 'METHODS\\tA total of 125 patients with primary knee OA were randomized 1:1 ; 63 received 7.5 mg/day of prednisolone and 62 received placebo for 6 weeks .\\n']"
            ]
          },
          "metadata": {},
          "execution_count": 6
        }
      ]
    },
    {
      "cell_type": "markdown",
      "source": [
        "### We need the data in the following format to be able to use it with our model \n",
        "\n",
        "```\n",
        "[{  'line_number' : 0,\n",
        "    'target' : 'BACKGROUND',\n",
        "    'text' : 'Emotional eating is the leading cause of Obesity',\n",
        "    'total_lines' : 11\n",
        "}]\n",
        "```"
      ],
      "metadata": {
        "id": "7wlvApE0cqiw"
      }
    },
    {
      "cell_type": "code",
      "source": [
        "# Creating a function to preprocess the data\n",
        "def preprocess_text(filename):\n",
        "    \"\"\"\n",
        "    Args: \n",
        "        filename : filename: a string contaning the target filepath.\n",
        "    Returns:\n",
        "        A list of dictionaries, of abstract line data.\n",
        "    \"\"\"\n",
        "\n",
        "    input_lines = get_lines(filename)\n",
        "    abstract_lines = \"\"\n",
        "    abstract_samples = []\n",
        "\n",
        "    # Loop through each line in the target file\n",
        "    for line in input_lines:\n",
        "        if line.startswith(\"###\"):\n",
        "            abstract_id = line\n",
        "            abstract_lines = \"\"\n",
        "        elif line.isspace():\n",
        "            abstract_line_split = abstract_lines.splitlines()\n",
        "\n",
        "            # Iterate through each line in a single abstract and count them at the same time\n",
        "            for abstract_line_number, abstract_line in enumerate(abstract_line_split):\n",
        "                line_data = {}\n",
        "                target_text_split = abstract_line.split(\"\\t\") # split the label from text\n",
        "                line_data[\"target\"] = target_text_split[0]\n",
        "                line_data[\"text\"] = target_text_split[1].lower()\n",
        "                line_data[\"line_number\"] = abstract_line_number\n",
        "                line_data[\"total_lines\"] = len(abstract_line_split) - 1\n",
        "                abstract_samples.append(line_data)\n",
        "        else:\n",
        "            abstract_lines += line\n",
        "\n",
        "    return abstract_samples "
      ],
      "metadata": {
        "id": "RUZi4F7pdHDM"
      },
      "execution_count": 7,
      "outputs": []
    },
    {
      "cell_type": "code",
      "source": [
        "# Get the data from the file and preprocess it\n",
        "train_samples = preprocess_text(data_dir + \"train.txt\")\n",
        "test_samples = preprocess_text(data_dir + \"test.txt\")\n",
        "val_samples = preprocess_text(data_dir + \"dev.txt\")\n",
        "\n",
        "print(f\"Length of training samples: {len(train_samples)}\")\n",
        "print(f\"Length of training samples: {len(test_samples)}\")\n",
        "print(f\"Length of training samples: {len(val_samples)}\")"
      ],
      "metadata": {
        "colab": {
          "base_uri": "https://localhost:8080/"
        },
        "id": "HPqZ3zBNfUR1",
        "outputId": "44e48bc3-3d17-4a8c-b0a0-c81a1db0b77b"
      },
      "execution_count": 8,
      "outputs": [
        {
          "output_type": "stream",
          "name": "stdout",
          "text": [
            "Length of training samples: 180040\n",
            "Length of training samples: 30135\n",
            "Length of training samples: 30212\n"
          ]
        }
      ]
    },
    {
      "cell_type": "code",
      "source": [
        "# Converting our lists into Pandas dataframes\n",
        "import pandas as pd\n",
        "train_df = pd.DataFrame(train_samples)\n",
        "test_df = pd.DataFrame(test_samples)\n",
        "val_df = pd.DataFrame(val_samples)\n",
        "\n",
        "train_df.head(5)"
      ],
      "metadata": {
        "colab": {
          "base_uri": "https://localhost:8080/",
          "height": 206
        },
        "id": "jO7xLjAuf3Tk",
        "outputId": "a494ab8c-60c4-4b5d-b3ca-94d64c8c66ab"
      },
      "execution_count": 9,
      "outputs": [
        {
          "output_type": "execute_result",
          "data": {
            "text/plain": [
              "      target                                               text  line_number  \\\n",
              "0  OBJECTIVE  to investigate the efficacy of 6 weeks of dail...            0   \n",
              "1    METHODS  a total of 125 patients with primary knee oa w...            1   \n",
              "2    METHODS  outcome measures included pain reduction and i...            2   \n",
              "3    METHODS  pain was assessed using the visual analog pain...            3   \n",
              "4    METHODS  secondary outcome measures included the wester...            4   \n",
              "\n",
              "   total_lines  \n",
              "0           11  \n",
              "1           11  \n",
              "2           11  \n",
              "3           11  \n",
              "4           11  "
            ],
            "text/html": [
              "\n",
              "  <div id=\"df-83707dea-b71c-4916-80e8-521a1e6efd0b\">\n",
              "    <div class=\"colab-df-container\">\n",
              "      <div>\n",
              "<style scoped>\n",
              "    .dataframe tbody tr th:only-of-type {\n",
              "        vertical-align: middle;\n",
              "    }\n",
              "\n",
              "    .dataframe tbody tr th {\n",
              "        vertical-align: top;\n",
              "    }\n",
              "\n",
              "    .dataframe thead th {\n",
              "        text-align: right;\n",
              "    }\n",
              "</style>\n",
              "<table border=\"1\" class=\"dataframe\">\n",
              "  <thead>\n",
              "    <tr style=\"text-align: right;\">\n",
              "      <th></th>\n",
              "      <th>target</th>\n",
              "      <th>text</th>\n",
              "      <th>line_number</th>\n",
              "      <th>total_lines</th>\n",
              "    </tr>\n",
              "  </thead>\n",
              "  <tbody>\n",
              "    <tr>\n",
              "      <th>0</th>\n",
              "      <td>OBJECTIVE</td>\n",
              "      <td>to investigate the efficacy of 6 weeks of dail...</td>\n",
              "      <td>0</td>\n",
              "      <td>11</td>\n",
              "    </tr>\n",
              "    <tr>\n",
              "      <th>1</th>\n",
              "      <td>METHODS</td>\n",
              "      <td>a total of 125 patients with primary knee oa w...</td>\n",
              "      <td>1</td>\n",
              "      <td>11</td>\n",
              "    </tr>\n",
              "    <tr>\n",
              "      <th>2</th>\n",
              "      <td>METHODS</td>\n",
              "      <td>outcome measures included pain reduction and i...</td>\n",
              "      <td>2</td>\n",
              "      <td>11</td>\n",
              "    </tr>\n",
              "    <tr>\n",
              "      <th>3</th>\n",
              "      <td>METHODS</td>\n",
              "      <td>pain was assessed using the visual analog pain...</td>\n",
              "      <td>3</td>\n",
              "      <td>11</td>\n",
              "    </tr>\n",
              "    <tr>\n",
              "      <th>4</th>\n",
              "      <td>METHODS</td>\n",
              "      <td>secondary outcome measures included the wester...</td>\n",
              "      <td>4</td>\n",
              "      <td>11</td>\n",
              "    </tr>\n",
              "  </tbody>\n",
              "</table>\n",
              "</div>\n",
              "      <button class=\"colab-df-convert\" onclick=\"convertToInteractive('df-83707dea-b71c-4916-80e8-521a1e6efd0b')\"\n",
              "              title=\"Convert this dataframe to an interactive table.\"\n",
              "              style=\"display:none;\">\n",
              "        \n",
              "  <svg xmlns=\"http://www.w3.org/2000/svg\" height=\"24px\"viewBox=\"0 0 24 24\"\n",
              "       width=\"24px\">\n",
              "    <path d=\"M0 0h24v24H0V0z\" fill=\"none\"/>\n",
              "    <path d=\"M18.56 5.44l.94 2.06.94-2.06 2.06-.94-2.06-.94-.94-2.06-.94 2.06-2.06.94zm-11 1L8.5 8.5l.94-2.06 2.06-.94-2.06-.94L8.5 2.5l-.94 2.06-2.06.94zm10 10l.94 2.06.94-2.06 2.06-.94-2.06-.94-.94-2.06-.94 2.06-2.06.94z\"/><path d=\"M17.41 7.96l-1.37-1.37c-.4-.4-.92-.59-1.43-.59-.52 0-1.04.2-1.43.59L10.3 9.45l-7.72 7.72c-.78.78-.78 2.05 0 2.83L4 21.41c.39.39.9.59 1.41.59.51 0 1.02-.2 1.41-.59l7.78-7.78 2.81-2.81c.8-.78.8-2.07 0-2.86zM5.41 20L4 18.59l7.72-7.72 1.47 1.35L5.41 20z\"/>\n",
              "  </svg>\n",
              "      </button>\n",
              "      \n",
              "  <style>\n",
              "    .colab-df-container {\n",
              "      display:flex;\n",
              "      flex-wrap:wrap;\n",
              "      gap: 12px;\n",
              "    }\n",
              "\n",
              "    .colab-df-convert {\n",
              "      background-color: #E8F0FE;\n",
              "      border: none;\n",
              "      border-radius: 50%;\n",
              "      cursor: pointer;\n",
              "      display: none;\n",
              "      fill: #1967D2;\n",
              "      height: 32px;\n",
              "      padding: 0 0 0 0;\n",
              "      width: 32px;\n",
              "    }\n",
              "\n",
              "    .colab-df-convert:hover {\n",
              "      background-color: #E2EBFA;\n",
              "      box-shadow: 0px 1px 2px rgba(60, 64, 67, 0.3), 0px 1px 3px 1px rgba(60, 64, 67, 0.15);\n",
              "      fill: #174EA6;\n",
              "    }\n",
              "\n",
              "    [theme=dark] .colab-df-convert {\n",
              "      background-color: #3B4455;\n",
              "      fill: #D2E3FC;\n",
              "    }\n",
              "\n",
              "    [theme=dark] .colab-df-convert:hover {\n",
              "      background-color: #434B5C;\n",
              "      box-shadow: 0px 1px 3px 1px rgba(0, 0, 0, 0.15);\n",
              "      filter: drop-shadow(0px 1px 2px rgba(0, 0, 0, 0.3));\n",
              "      fill: #FFFFFF;\n",
              "    }\n",
              "  </style>\n",
              "\n",
              "      <script>\n",
              "        const buttonEl =\n",
              "          document.querySelector('#df-83707dea-b71c-4916-80e8-521a1e6efd0b button.colab-df-convert');\n",
              "        buttonEl.style.display =\n",
              "          google.colab.kernel.accessAllowed ? 'block' : 'none';\n",
              "\n",
              "        async function convertToInteractive(key) {\n",
              "          const element = document.querySelector('#df-83707dea-b71c-4916-80e8-521a1e6efd0b');\n",
              "          const dataTable =\n",
              "            await google.colab.kernel.invokeFunction('convertToInteractive',\n",
              "                                                     [key], {});\n",
              "          if (!dataTable) return;\n",
              "\n",
              "          const docLinkHtml = 'Like what you see? Visit the ' +\n",
              "            '<a target=\"_blank\" href=https://colab.research.google.com/notebooks/data_table.ipynb>data table notebook</a>'\n",
              "            + ' to learn more about interactive tables.';\n",
              "          element.innerHTML = '';\n",
              "          dataTable['output_type'] = 'display_data';\n",
              "          await google.colab.output.renderOutput(dataTable, element);\n",
              "          const docLink = document.createElement('div');\n",
              "          docLink.innerHTML = docLinkHtml;\n",
              "          element.appendChild(docLink);\n",
              "        }\n",
              "      </script>\n",
              "    </div>\n",
              "  </div>\n",
              "  "
            ]
          },
          "metadata": {},
          "execution_count": 9
        }
      ]
    },
    {
      "cell_type": "markdown",
      "source": [
        "# Getting data ready for our model\n",
        "\n",
        "Our model will have 4 different inputs \n",
        "\n",
        "    1. Line Numbers (One Hot Encoded)\n",
        "    2. Total Lines (One Hot Encoded)\n",
        "    3. Train Sentences (Custom Token Embeddings)\n",
        "    4. Train Chars (Custom character embeddings)\n",
        "\n",
        "And output will be target Label which we will also encode\n",
        "\n"
      ],
      "metadata": {
        "id": "LgtOzw2Uhm-M"
      }
    },
    {
      "cell_type": "code",
      "source": [
        "# Encoding labels OneHot and LabelEncode\n",
        "from sklearn.preprocessing import OneHotEncoder, LabelEncoder\n",
        "\n",
        "one_hot_encoder = OneHotEncoder(sparse=False)\n",
        "label_encoder = LabelEncoder()\n",
        "\n",
        "train_labels_one_hot = one_hot_encoder.fit_transform(train_df[\"target\"].to_numpy().reshape(-1,1))\n",
        "test_labels_one_hot = one_hot_encoder.transform(test_df[\"target\"].to_numpy().reshape(-1,1))\n",
        "val_labels_one_hot = one_hot_encoder.transform(val_df[\"target\"].to_numpy().reshape(-1,1))\n",
        "\n",
        "train_labels_encoded = label_encoder.fit_transform(train_df[\"target\"].to_numpy())\n",
        "test_labels_encoded = label_encoder.transform(test_df[\"target\"].to_numpy())\n",
        "val_labels_encoded = label_encoder.transform(val_df[\"target\"].to_numpy())\n",
        "\n",
        "print(f\"\\nTrain Labels One Hot Encoded: {train_labels_one_hot}\\n\")\n",
        "print(f\"\\nTrain Labels Encoded: {train_labels_encoded}\\n\")"
      ],
      "metadata": {
        "colab": {
          "base_uri": "https://localhost:8080/"
        },
        "id": "yGvm0Z-Qind4",
        "outputId": "4e6383bb-f042-4531-830e-b7f8fa131b3f"
      },
      "execution_count": 10,
      "outputs": [
        {
          "output_type": "stream",
          "name": "stdout",
          "text": [
            "\n",
            "Train Labels One Hot Encoded: [[0. 0. 0. 1. 0.]\n",
            " [0. 0. 1. 0. 0.]\n",
            " [0. 0. 1. 0. 0.]\n",
            " ...\n",
            " [0. 0. 0. 0. 1.]\n",
            " [0. 1. 0. 0. 0.]\n",
            " [0. 1. 0. 0. 0.]]\n",
            "\n",
            "\n",
            "Train Labels Encoded: [3 2 2 ... 4 1 1]\n",
            "\n"
          ]
        }
      ]
    },
    {
      "cell_type": "code",
      "source": [
        "num_classes = len(label_encoder.classes_)\n",
        "class_names = label_encoder.classes_"
      ],
      "metadata": {
        "id": "jyGRpEv3tIgX"
      },
      "execution_count": 11,
      "outputs": []
    },
    {
      "cell_type": "markdown",
      "source": [
        "## Preparing the text data for our model"
      ],
      "metadata": {
        "id": "RxpZ4I64kSG_"
      }
    },
    {
      "cell_type": "code",
      "source": [
        "# Connverting out sentences tolist\n",
        "train_sentences = train_df[\"text\"].tolist()\n",
        "test_sentences = test_df[\"text\"].tolist()\n",
        "val_sentences = val_df[\"text\"].tolist()"
      ],
      "metadata": {
        "id": "06VEHL4ElxBQ"
      },
      "execution_count": 12,
      "outputs": []
    },
    {
      "cell_type": "code",
      "source": [
        "import numpy as np\n",
        "import tensorflow as tf\n",
        "from tensorflow.keras import layers\n",
        "\n",
        "# How long is each sentence on average?\n",
        "sent_lens = [len(sentence.split()) for sentence in train_sentences]\n",
        "avg_sent_len  = np.mean(sent_lens)\n",
        "output_seq_len = int(np.percentile(sent_lens, 95))\n",
        "output_seq_len"
      ],
      "metadata": {
        "colab": {
          "base_uri": "https://localhost:8080/"
        },
        "id": "LfPiFIXUlW2X",
        "outputId": "2f2ae495-3147-4639-ace0-1b52169c79e0"
      },
      "execution_count": 13,
      "outputs": [
        {
          "output_type": "execute_result",
          "data": {
            "text/plain": [
              "55"
            ]
          },
          "metadata": {},
          "execution_count": 13
        }
      ]
    },
    {
      "cell_type": "markdown",
      "source": [
        "### Creating a Word Level Tokenizer and Embedding"
      ],
      "metadata": {
        "id": "iA3qZGaAnet2"
      }
    },
    {
      "cell_type": "code",
      "source": [
        "# Total Words in our Dataset\n",
        "MAX_TOKENS = 68000 # from the paper\n",
        "\n",
        "# Creating a TextVectorizer\n",
        "from tensorflow.keras.layers.experimental.preprocessing import TextVectorization\n",
        "\n",
        "text_vectorizer = TextVectorization(max_tokens = MAX_TOKENS, output_sequence_length = output_seq_len)\n",
        "text_vectorizer.adapt(train_sentences)"
      ],
      "metadata": {
        "id": "1lBPdg3hkVXS"
      },
      "execution_count": 14,
      "outputs": []
    },
    {
      "cell_type": "code",
      "source": [
        "# How many words in our training vocabulary?\n",
        "rct_text_vocab = text_vectorizer.get_vocabulary()\n",
        "print(f\"No. of words in vocab: {len(rct_text_vocab)}\")\n",
        "print(f\"Most common words in vocab: {rct_text_vocab[:5]}\")\n",
        "print(f\"Least common words in data: {rct_text_vocab[-5:]}\")"
      ],
      "metadata": {
        "colab": {
          "base_uri": "https://localhost:8080/"
        },
        "id": "BXVrevuamWFp",
        "outputId": "8c73541d-ef60-442c-9e2e-1f4ab41d38b4"
      },
      "execution_count": 15,
      "outputs": [
        {
          "output_type": "stream",
          "name": "stdout",
          "text": [
            "No. of words in vocab: 68000\n",
            "Most common words in vocab: ['', '[UNK]', 'the', 'and', 'of']\n",
            "Least common words in data: ['httpsuploaduminacjpcgiopenbinctrctrcgifunctionbrowsactionbrowstypesummaryrecptnor000008238languagee', 'httpsregisterclinicaltrialsgov', 'httpsmartmicrosurgerycom', 'httpseudractemaeuropaeuindexhtml', 'httpseudractemaeuropaeu']\n"
          ]
        }
      ]
    },
    {
      "cell_type": "code",
      "source": [
        "# Creating a custom token embedding\n",
        "from tensorflow.keras.layers import Embedding\n",
        "\n",
        "token_embed = Embedding(input_dim = len(rct_text_vocab),\n",
        "                        output_dim = 512,\n",
        "                        mask_zero = True,\n",
        "                        name = \"token_embeddings\")"
      ],
      "metadata": {
        "id": "7v4hDNkTmjtN"
      },
      "execution_count": 16,
      "outputs": []
    },
    {
      "cell_type": "markdown",
      "source": [
        "### Creating a character level tokenizer and embedding"
      ],
      "metadata": {
        "id": "nejftxptnTWL"
      }
    },
    {
      "cell_type": "code",
      "source": [
        "# Make a function to split sentences into character\n",
        "def split_chars(text):\n",
        "    return \" \".join(list(text))\n",
        "\n",
        "# Split sequence-level data splits into character-level data splits\n",
        "train_chars = [split_chars(sentence) for sentence in train_sentences]\n",
        "val_chars = [split_chars(sentence) for sentence in val_sentences]\n",
        "test_chars = [split_chars(sentence) for sentence in test_sentences]\n",
        "\n",
        "# Average character length in a sentence\n",
        "char_lens = [len(sentence) for sentence in train_sentences]\n",
        "output_seq_char_len = int(np.percentile(char_lens, 95))\n",
        "\n",
        "# Getting all the possible chars in the sentences\n",
        "import string\n",
        "alphabet = string.ascii_lowercase + string.digits + string.punctuation\n",
        "\n",
        "NUM_CHAR_TOKENS = len(alphabet) + 2\n",
        "char_vectorizer = TextVectorization(max_tokens= NUM_CHAR_TOKENS,\n",
        "                                 output_sequence_length = output_seq_char_len,\n",
        "                                 standardize = None,\n",
        "                                 name = \"char_vectorizer\")\n",
        "\n",
        "char_vectorizer.adapt(train_chars)\n",
        "char_vocab = char_vectorizer.get_vocabulary()\n",
        "print(f\"No of different characters in character voacb: {len(char_vocab)}\")\n",
        "print(f\"5 most common characters: {char_vocab[:5]}\")\n",
        "print(f\"5 most common characters: {char_vocab[-5:]}\")"
      ],
      "metadata": {
        "colab": {
          "base_uri": "https://localhost:8080/"
        },
        "id": "eIRGL95Gnv3d",
        "outputId": "028e4bcd-fae3-46a1-b8c0-f9fc9725115c"
      },
      "execution_count": 17,
      "outputs": [
        {
          "output_type": "stream",
          "name": "stdout",
          "text": [
            "No of different characters in character voacb: 69\n",
            "5 most common characters: ['', '[UNK]', 'e', 't', 'i']\n",
            "5 most common characters: ['{', '@', '|', '\"', '\\\\']\n"
          ]
        }
      ]
    },
    {
      "cell_type": "code",
      "source": [
        "# Creating an embedding layer\n",
        "char_embed = layers.Embedding(input_dim = len(char_vocab),\n",
        "                              output_dim = 25, # this is the size of char_embedding in paper\n",
        "                              mask_zero = True,\n",
        "                              name = \"char_embed\")"
      ],
      "metadata": {
        "id": "-j54NAuTnv0w"
      },
      "execution_count": 18,
      "outputs": []
    },
    {
      "cell_type": "markdown",
      "source": [
        "### One hot Encoding the Line Number and Total Lines"
      ],
      "metadata": {
        "id": "PNcgzkT_qspb"
      }
    },
    {
      "cell_type": "code",
      "source": [
        "# Use tensorflow to create one hot encoded tensors of line number and total lines\n",
        "train_line_numbers_one_hot = tf.one_hot(train_df[\"line_number\"].to_numpy(), depth=15)\n",
        "val_line_numbers_one_hot = tf.one_hot(val_df[\"line_number\"].to_numpy(), depth=15)\n",
        "test_line_numbers_one_hot = tf.one_hot(test_df[\"line_number\"].to_numpy(), depth=15)\n",
        "\n",
        "train_total_lines_one_hot = tf.one_hot(train_df[\"total_lines\"].to_numpy(), depth=20)\n",
        "val_total_lines_one_hot = tf.one_hot(val_df[\"total_lines\"].to_numpy(), depth=20)\n",
        "test_total_lines_one_hot = tf.one_hot(test_df[\"total_lines\"].to_numpy(), depth=20)"
      ],
      "metadata": {
        "id": "tbJ67gfbqyTP"
      },
      "execution_count": 19,
      "outputs": []
    },
    {
      "cell_type": "code",
      "source": [
        "def create_prefetch_dataset(line_numbers, total_lines, sentences, chars, labels, batch_size):\n",
        "    \"\"\"\n",
        "    Args:\n",
        "        line_numbers: line numbers ONE HOT ENCODED\n",
        "        total_lines: total_lines ONE HOT ENCODED\n",
        "        sentences: list of sentences\n",
        "        chars: list of characters\n",
        "        batch_size: Number of batches\n",
        "        labels: Labels ONE HOT ENCODED\n",
        "\n",
        "    Returns: \n",
        "        Prefetch tensorflow dataset for efficient performance\n",
        "    \"\"\"\n",
        "\n",
        "    char_token_pos_data = tf.data.Dataset.from_tensor_slices((line_numbers,\n",
        "                                                              total_lines,\n",
        "                                                              sentences,\n",
        "                                                              chars))\n",
        "    \n",
        "    char_token_pos_labels = tf.data.Dataset.from_tensor_slices(labels)\n",
        "\n",
        "    char_token_pos_dataset = tf.data.Dataset.zip((char_token_pos_data, char_token_pos_labels))\n",
        "\n",
        "    char_token_pos_dataset = char_token_pos_dataset.batch(batch_size).prefetch(tf.data.AUTOTUNE)\n",
        "\n",
        "    return char_token_pos_dataset"
      ],
      "metadata": {
        "id": "U5TGobTbosCa"
      },
      "execution_count": 20,
      "outputs": []
    },
    {
      "cell_type": "code",
      "source": [
        "# Creating the fast loading prefetch datasets\n",
        "train_char_token_pos_dataset = create_prefetch_dataset(train_line_numbers_one_hot,\n",
        "                                                       train_total_lines_one_hot,\n",
        "                                                       train_sentences,\n",
        "                                                       train_chars,\n",
        "                                                       train_labels_one_hot,\n",
        "                                                       32)\n",
        "\n",
        "test_char_token_pos_dataset = create_prefetch_dataset(test_line_numbers_one_hot,\n",
        "                                                       test_total_lines_one_hot,\n",
        "                                                       test_sentences,\n",
        "                                                       test_chars,\n",
        "                                                       test_labels_one_hot,\n",
        "                                                       32)\n",
        "\n",
        "val_char_token_pos_dataset = create_prefetch_dataset(val_line_numbers_one_hot,\n",
        "                                                       val_total_lines_one_hot,\n",
        "                                                       val_sentences,\n",
        "                                                       val_chars,\n",
        "                                                       val_labels_one_hot,\n",
        "                                                       32)"
      ],
      "metadata": {
        "id": "5psEohIBreOr"
      },
      "execution_count": 21,
      "outputs": []
    },
    {
      "cell_type": "markdown",
      "source": [
        "## Creating a Tribrid Model with Custom Token and Word Embeddings"
      ],
      "metadata": {
        "id": "kZ_TLAGgsVeY"
      }
    },
    {
      "cell_type": "code",
      "source": [
        "from tensorflow.keras import Model\n",
        "from tensorflow.keras.layers import Input, Dense, Bidirectional, LSTM, Concatenate, Dropout\n",
        "\n",
        "# 1. Token Inputs\n",
        "token_inputs = layers.Input(shape=[], dtype=\"string\", name=\"token_inputs\")\n",
        "token_vectors = text_vectorizer(token_inputs)\n",
        "token_embeddings = token_embed(token_vectors)\n",
        "tokens_bi_lstm = Bidirectional(LSTM(32))(token_embeddings)\n",
        "token_model = tf.keras.Model(inputs = token_inputs,\n",
        "                             outputs = tokens_bi_lstm,\n",
        "                             name = \"token_model\")\n",
        "\n",
        "# 2. Character Inputs\n",
        "char_input = Input(shape=(1,), dtype=\"string\", name=\"char_inputs\")\n",
        "char_vectors = char_vectorizer(char_input)\n",
        "char_embeddings = char_embed(char_vectors)\n",
        "char_bi_lstm = Bidirectional(LSTM(32))(char_embeddings)\n",
        "char_model = Model(inputs = char_input, outputs = char_bi_lstm, name=\"char_model\")\n",
        "\n",
        "# 3. Line Numbers\n",
        "line_numbers_input = Input(shape=(15,), dtype=tf.float32, name=\"line_number_input\")\n",
        "x = Dense(256, activation=\"relu\")(line_numbers_input)\n",
        "line_numbers_model = Model(inputs = line_numbers_input, outputs = x, name=\"line_numbers_model\")\n",
        "\n",
        "# 4. Total Lines\n",
        "total_lines_input = Input(shape=(20,), dtype=tf.float32, name=\"total_lines_input\")\n",
        "y = Dense(256, activation=\"relu\")(total_lines_input)\n",
        "total_lines_model = Model(inputs = total_lines_input, outputs = y, name=\"total_lines_model\")\n",
        "\n",
        "# 5. Concatenate the token and char into hybrid embeddings\n",
        "hybrid = Concatenate(name=\"hybrid_token_char_embeddings\")([token_model.output, char_model.output])\n",
        "z = Dense(256, activation=\"relu\")(hybrid)\n",
        "hybrid_embeddings = Dropout(0.5)(z)\n",
        "\n",
        "# 6. Combine positional and hybrid embeddings\n",
        "tribrid_embeddings = Concatenate(name=\"tribrid_embeddings\")([line_numbers_model.output,\n",
        "                                                             total_lines_model.output,\n",
        "                                                             hybrid_embeddings])\n",
        "\n",
        "# 7. Final Output layer\n",
        "output = Dense(num_classes, activation=\"softmax\", name=\"output_layer\")(tribrid_embeddings)\n",
        "\n",
        "# 8. Putting togathere everything\n",
        "tribrid_model = Model(inputs = [line_numbers_model.input,\n",
        "                                total_lines_model.input,\n",
        "                                token_model.input,\n",
        "                                char_model.input],\n",
        "                      outputs = output,\n",
        "                      name = \"tribrid_model\")"
      ],
      "metadata": {
        "id": "69j4x6318-Nb"
      },
      "execution_count": 22,
      "outputs": []
    },
    {
      "cell_type": "code",
      "source": [
        "tribrid_model.compile(loss=tf.keras.losses.CategoricalCrossentropy(label_smoothing=0.2),\n",
        "                      optimizer=\"adam\",\n",
        "                      metrics = [\"accuracy\"])"
      ],
      "metadata": {
        "id": "GL96lMGT0BM7"
      },
      "execution_count": 23,
      "outputs": []
    },
    {
      "cell_type": "code",
      "source": [
        "from tensorflow.keras.utils import plot_model\n",
        "plot_model(tribrid_model, show_shapes=True)"
      ],
      "metadata": {
        "colab": {
          "base_uri": "https://localhost:8080/",
          "height": 953
        },
        "id": "8RRlohAU4je1",
        "outputId": "59c663b5-9e0f-4a51-aeb4-9f46a8231984"
      },
      "execution_count": 24,
      "outputs": [
        {
          "output_type": "execute_result",
          "data": {
            "image/png": "[encoded data removed]",
            "text/plain": [
              "<IPython.core.display.Image object>"
            ]
          },
          "metadata": {},
          "execution_count": 24
        }
      ]
    },
    {
      "cell_type": "code",
      "source": [
        "train_char_token_pos_dataset"
      ],
      "metadata": {
        "colab": {
          "base_uri": "https://localhost:8080/"
        },
        "id": "VVINWHlzBsZz",
        "outputId": "36f2bf97-2015-4ea1-91c6-235ea943134d"
      },
      "execution_count": 25,
      "outputs": [
        {
          "output_type": "execute_result",
          "data": {
            "text/plain": [
              "<PrefetchDataset element_spec=((TensorSpec(shape=(None, 15), dtype=tf.float32, name=None), TensorSpec(shape=(None, 20), dtype=tf.float32, name=None), TensorSpec(shape=(None,), dtype=tf.string, name=None), TensorSpec(shape=(None,), dtype=tf.string, name=None)), TensorSpec(shape=(None, 5), dtype=tf.float64, name=None))>"
            ]
          },
          "metadata": {},
          "execution_count": 25
        }
      ]
    },
    {
      "cell_type": "code",
      "source": [
        "tribrid_model_history = tribrid_model.fit(train_char_token_pos_dataset,\n",
        "                                          steps_per_epoch=int(0.1* len(train_char_token_pos_dataset)),\n",
        "                                          epochs=3,\n",
        "                                          validation_data = val_char_token_pos_dataset,\n",
        "                                          validation_steps = int(0.1 * len(val_char_token_pos_dataset)))"
      ],
      "metadata": {
        "colab": {
          "base_uri": "https://localhost:8080/"
        },
        "id": "_JiYXqBL0f0V",
        "outputId": "2bb23b6d-c1eb-4b1e-b59b-59f574dc3b3c"
      },
      "execution_count": 26,
      "outputs": [
        {
          "output_type": "stream",
          "name": "stdout",
          "text": [
            "Epoch 1/3\n",
            "562/562 [==============================] - 82s 99ms/step - loss: 1.0143 - accuracy: 0.7800 - val_loss: 0.9198 - val_accuracy: 0.8441\n",
            "Epoch 2/3\n",
            "562/562 [==============================] - 32s 57ms/step - loss: 0.9132 - accuracy: 0.8515 - val_loss: 0.8978 - val_accuracy: 0.8534\n",
            "Epoch 3/3\n",
            "562/562 [==============================] - 29s 52ms/step - loss: 0.8976 - accuracy: 0.8585 - val_loss: 0.8871 - val_accuracy: 0.8620\n"
          ]
        }
      ]
    },
    {
      "cell_type": "code",
      "source": [
        "!wget https://raw.githubusercontent.com/r-zeeshan/foodVision101-efficientNetB3/main/helper_functions.py\n",
        "from helper_functions import calculate_results"
      ],
      "metadata": {
        "colab": {
          "base_uri": "https://localhost:8080/"
        },
        "id": "G_MhwrqHFFNd",
        "outputId": "512b97ac-86d2-4fd6-fe44-e3e0d97cb95e"
      },
      "execution_count": 27,
      "outputs": [
        {
          "output_type": "stream",
          "name": "stdout",
          "text": [
            "--2023-02-26 09:46:00--  https://raw.githubusercontent.com/r-zeeshan/foodVision101-efficientNetB3/main/helper_functions.py\n",
            "Resolving raw.githubusercontent.com (raw.githubusercontent.com)... 185.199.111.133, 185.199.109.133, 185.199.110.133, ...\n",
            "Connecting to raw.githubusercontent.com (raw.githubusercontent.com)|185.199.111.133|:443... connected.\n",
            "HTTP request sent, awaiting response... 200 OK\n",
            "Length: 12523 (12K) [text/plain]\n",
            "Saving to: ‘helper_functions.py.1’\n",
            "\n",
            "\rhelper_functions.py   0%[                    ]       0  --.-KB/s               \rhelper_functions.py 100%[===================>]  12.23K  --.-KB/s    in 0s      \n",
            "\n",
            "2023-02-26 09:46:00 (112 MB/s) - ‘helper_functions.py.1’ saved [12523/12523]\n",
            "\n"
          ]
        }
      ]
    },
    {
      "cell_type": "code",
      "source": [
        "tribrid_model.evaluate(val_char_token_pos_dataset)"
      ],
      "metadata": {
        "colab": {
          "base_uri": "https://localhost:8080/"
        },
        "id": "fzqM5AcOGR6p",
        "outputId": "84bdca6f-ae1c-4ac3-96ce-433ee14307af"
      },
      "execution_count": 28,
      "outputs": [
        {
          "output_type": "stream",
          "name": "stdout",
          "text": [
            "945/945 [==============================] - 15s 16ms/step - loss: 0.8816 - accuracy: 0.8649\n"
          ]
        },
        {
          "output_type": "execute_result",
          "data": {
            "text/plain": [
              "[0.8815892934799194, 0.8649212121963501]"
            ]
          },
          "metadata": {},
          "execution_count": 28
        }
      ]
    },
    {
      "cell_type": "code",
      "source": [
        "tribrid_model_pred_probs = tribrid_model.predict(test_char_token_pos_dataset)\n",
        "tribrid_model_preds = tf.argmax(tribrid_model_pred_probs, axis=1)"
      ],
      "metadata": {
        "colab": {
          "base_uri": "https://localhost:8080/"
        },
        "id": "2Nzhfq0vGf_u",
        "outputId": "d6460783-8229-412f-802d-5e64f6416584"
      },
      "execution_count": 30,
      "outputs": [
        {
          "output_type": "stream",
          "name": "stdout",
          "text": [
            "942/942 [==============================] - 20s 16ms/step\n"
          ]
        }
      ]
    },
    {
      "cell_type": "code",
      "source": [
        "tribrid_model_results = calculate_results(y_true = test_labels_encoded,\n",
        "                                          y_pred = tribrid_model_preds) "
      ],
      "metadata": {
        "id": "mZH_wyJRGr3b"
      },
      "execution_count": 31,
      "outputs": []
    },
    {
      "cell_type": "code",
      "source": [
        "tribrid_model_results"
      ],
      "metadata": {
        "colab": {
          "base_uri": "https://localhost:8080/"
        },
        "id": "IUNn2q4rHjWV",
        "outputId": "c1700e5a-86b4-45dd-fbe9-3c49815fd7e9"
      },
      "execution_count": 32,
      "outputs": [
        {
          "output_type": "execute_result",
          "data": {
            "text/plain": [
              "{'accuracy': 86.07599137215863,\n",
              " 'precision': 0.8605826495223277,\n",
              " 'recall': 0.8607599137215862,\n",
              " 'f1': 0.8602844491698982}"
            ]
          },
          "metadata": {},
          "execution_count": 32
        }
      ]
    },
    {
      "cell_type": "code",
      "source": [],
      "metadata": {
        "id": "XLKmKMd8Hmgc"
      },
      "execution_count": null,
      "outputs": []
    }
  ]
}